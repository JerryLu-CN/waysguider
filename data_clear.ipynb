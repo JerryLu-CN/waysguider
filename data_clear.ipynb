{
 "cells": [
  {
   "cell_type": "code",
   "execution_count": 1,
   "metadata": {},
   "outputs": [],
   "source": [
    "from dataset import *\n",
    "import numpy as np\n",
    "import pandas as pd\n",
    "import matplotlib.pyplot as plt\n",
    "torch.manual_seed(0)\n",
    "torch.cuda.manual_seed(0)\n",
    "data_path = '/data/lzt/project/waysguider_3/dataset'\n"
   ]
  },
  {
   "cell_type": "code",
   "execution_count": 2,
   "metadata": {},
   "outputs": [
    {
     "name": "stdout",
     "output_type": "stream",
     "text": [
      "==================================================\n",
      "Data Preprocess Done!\n",
      "Dataset size:0, train:10000, val:1806\n",
      "==================================================\n"
     ]
    }
   ],
   "source": [
    "dataset = GuiderDataset(data_path,0.2,max_len=12,min_len=20)\n",
    "data = dataset.data\n",
    "\n"
   ]
  },
  {
   "cell_type": "markdown",
   "metadata": {},
   "source": [
    "## raw"
   ]
  },
  {
   "cell_type": "code",
   "execution_count": 3,
   "metadata": {},
   "outputs": [
    {
     "data": {
      "text/plain": [
       "6760"
      ]
     },
     "execution_count": 3,
     "metadata": {},
     "output_type": "execute_result"
    }
   ],
   "source": [
    "len(data)"
   ]
  },
  {
   "cell_type": "code",
   "execution_count": 3,
   "metadata": {},
   "outputs": [],
   "source": [
    "def interval(seq):\n",
    "    intervals = []\n",
    "    seq = seq[:-1]\n",
    "    seq_ = seq[1:]\n",
    "    seq = seq[:-1]\n",
    "    for i in range(len(seq)):\n",
    "        inter = np.sqrt((seq[i][0] - seq_[i][0]) ** 2 + (seq[i][1] - seq_[i][1]) ** 2).item()\n",
    "        intervals.append(inter)\n",
    "    return intervals"
   ]
  },
  {
   "cell_type": "code",
   "execution_count": 4,
   "metadata": {},
   "outputs": [],
   "source": [
    "length = []\n",
    "intervals_avg = []\n",
    "for seq in data:\n",
    "    length.append(len(seq))\n",
    "    intervals_avg.append(np.array(interval(seq)).mean().item())\n",
    "summary = pd.DataFrame()\n",
    "summary['id'] = list(range(len(data)))\n",
    "summary['length'] = length\n",
    "summary['avg_inter'] = intervals_avg"
   ]
  },
  {
   "cell_type": "code",
   "execution_count": 6,
   "metadata": {},
   "outputs": [],
   "source": [
    "summary.to_csv('summary.csv')"
   ]
  },
  {
   "cell_type": "code",
   "execution_count": 7,
   "metadata": {},
   "outputs": [
    {
     "data": {
      "text/plain": [
       "21"
      ]
     },
     "execution_count": 7,
     "metadata": {},
     "output_type": "execute_result"
    }
   ],
   "source": [
    "max(summary['length'])"
   ]
  },
  {
   "cell_type": "code",
   "execution_count": 11,
   "metadata": {},
   "outputs": [
    {
     "name": "stdout",
     "output_type": "stream",
     "text": [
      "5435\n"
     ]
    },
    {
     "data": {
      "image/png": "[encoded data removed]",
      "text/plain": [
       "<Figure size 432x288 with 1 Axes>"
      ]
     },
     "metadata": {
      "needs_background": "light"
     },
     "output_type": "display_data"
    }
   ],
   "source": [
    "plt.hist(summary['length'].loc[summary['length']<20].loc[summary['length']>6])\n",
    "print(summary['length'].loc[summary['length']<20].loc[summary['length']>6].shape[0])"
   ]
  },
  {
   "cell_type": "code",
   "execution_count": 5,
   "metadata": {},
   "outputs": [
    {
     "name": "stdout",
     "output_type": "stream",
     "text": [
      "6670\n"
     ]
    },
    {
     "data": {
      "image/png": "[encoded data removed]",
      "text/plain": [
       "<Figure size 432x288 with 1 Axes>"
      ]
     },
     "metadata": {
      "needs_background": "light"
     },
     "output_type": "display_data"
    }
   ],
   "source": [
    "plt.hist(summary['avg_inter'].loc[summary['avg_inter']<1])\n",
    "print(summary['avg_inter'].loc[summary['avg_inter']<1].shape[0])"
   ]
  },
  {
   "cell_type": "code",
   "execution_count": 7,
   "metadata": {},
   "outputs": [
    {
     "name": "stdout",
     "output_type": "stream",
     "text": [
      "6760\n"
     ]
    },
    {
     "data": {
      "image/png": "[encoded data removed]",
      "text/plain": [
       "<Figure size 432x288 with 1 Axes>"
      ]
     },
     "metadata": {
      "needs_background": "light"
     },
     "output_type": "display_data"
    }
   ],
   "source": [
    "plt.hist(summary['avg_inter'])\n",
    "print(summary['avg_inter'].shape[0])"
   ]
  },
  {
   "cell_type": "code",
   "execution_count": 4,
   "metadata": {},
   "outputs": [],
   "source": [
    "cache = []\n",
    "for i in range(len(data)):\n",
    "    cache.extend(interval(data[i]))"
   ]
  },
  {
   "cell_type": "code",
   "execution_count": 5,
   "metadata": {},
   "outputs": [
    {
     "data": {
      "text/plain": [
       "(array([1.30672e+05, 1.80000e+01, 0.00000e+00, 0.00000e+00, 0.00000e+00,\n",
       "        1.00000e+00, 0.00000e+00, 1.00000e+00, 2.00000e+00, 1.00000e+00]),\n",
       " array([6.23626743e-08, 5.28626780e-01, 1.05725350e+00, 1.58588021e+00,\n",
       "        2.11450693e+00, 2.64313365e+00, 3.17176037e+00, 3.70038708e+00,\n",
       "        4.22901380e+00, 4.75764052e+00, 5.28626724e+00]),\n",
       " <a list of 10 Patch objects>)"
      ]
     },
     "execution_count": 5,
     "metadata": {},
     "output_type": "execute_result"
    },
    {
     "data": {
      "image/png": "[encoded data removed]",
      "text/plain": [
       "<Figure size 432x288 with 1 Axes>"
      ]
     },
     "metadata": {
      "needs_background": "light"
     },
     "output_type": "display_data"
    }
   ],
   "source": [
    "import matplotlib.pyplot as plt\n",
    "plt.hist(cache)"
   ]
  },
  {
   "cell_type": "code",
   "execution_count": 6,
   "metadata": {},
   "outputs": [
    {
     "data": {
      "text/plain": [
       "[0.05754787463633821,\n",
       " 0.04242741915497592,\n",
       " 0.028463778829250976,\n",
       " 0.015981864959769436,\n",
       " 0.007442697710512366,\n",
       " 0.007299108112575403,\n",
       " 0.006161953280213028,\n",
       " 0.0031523514937913753,\n",
       " 0.01480775541225814]"
      ]
     },
     "execution_count": 6,
     "metadata": {},
     "output_type": "execute_result"
    }
   ],
   "source": [
    "cache[1:10]"
   ]
  },
  {
   "cell_type": "code",
   "execution_count": 9,
   "metadata": {},
   "outputs": [
    {
     "name": "stdout",
     "output_type": "stream",
     "text": [
      "5.286267235676357\n",
      "6.23626743237986e-08\n"
     ]
    }
   ],
   "source": [
    "print(max(cache))\n",
    "print(min(cache))"
   ]
  },
  {
   "cell_type": "code",
   "execution_count": 8,
   "metadata": {},
   "outputs": [
    {
     "data": {
      "text/plain": [
       "[[0.4162920025199994, 0.0],\n",
       " [0.3869267398347111, 0.006356128040940765],\n",
       " [0.3302952330230998, 0.016585023944513364],\n",
       " [0.28820587800652736, 0.021930310694627402],\n",
       " [0.25975802097893236, 0.022882222338652027],\n",
       " [0.24405100813213684, 0.01993099292992983],\n",
       " [0.23979825081133627, 0.013822981438417791],\n",
       " [0.24286086062119278, 0.0071974701078384865],\n",
       " [0.24782153997728748, 0.0035421549978180223],\n",
       " [0.24925696106822348, 0.0063487340955996644],\n",
       " [0.24174379607837065, 0.019108905418293964],\n",
       " [0.22030825665418663, 0.044413036573577855],\n",
       " [0.18371616963476955, 0.07735353524010546],\n",
       " [0.13258790022847408, 0.10930444410577989],\n",
       " [0.06755714425762496, 0.13161307784322113],\n",
       " [-4.2332006896639744e-13, 0.13507609029931378],\n",
       " '8_7']"
      ]
     },
     "execution_count": 8,
     "metadata": {},
     "output_type": "execute_result"
    }
   ],
   "source": [
    "data[0]"
   ]
  },
  {
   "cell_type": "markdown",
   "metadata": {},
   "source": [
    "## torch"
   ]
  },
  {
   "cell_type": "code",
   "execution_count": 18,
   "metadata": {},
   "outputs": [],
   "source": [
    "import torch.utils.data as Data\n",
    "dataloader = Data.DataLoader(dataset,batch_size = 32)\n",
    "data_cache = []\n",
    "for i,data in enumerate(dataloader):\n",
    "    seq = data['seq']\n",
    "    for i in range(seq.shape[0]):\n",
    "        data_cache.append(seq[i])"
   ]
  },
  {
   "cell_type": "code",
   "execution_count": 36,
   "metadata": {},
   "outputs": [],
   "source": [
    "def interval_tensor(seq):\n",
    "    #seq = seq.tolist()\n",
    "    seq_ = np.array(seq[1:])\n",
    "    seq = np.array(seq[:-1])\n",
    "    intervals = np.sqrt(np.power(seq-seq_,2).sum(axis=1)).mean()\n",
    "\n",
    "    return intervals"
   ]
  },
  {
   "cell_type": "code",
   "execution_count": 37,
   "metadata": {},
   "outputs": [
    {
     "data": {
      "text/plain": [
       "3.5"
      ]
     },
     "execution_count": 37,
     "metadata": {},
     "output_type": "execute_result"
    }
   ],
   "source": [
    "x = [[1,1],[1,4],[5,4]]\n",
    "interval_tensor(x)"
   ]
  },
  {
   "cell_type": "code",
   "execution_count": 30,
   "metadata": {},
   "outputs": [
    {
     "ename": "TypeError",
     "evalue": "'float' object is not iterable",
     "output_type": "error",
     "traceback": [
      "\u001b[0;31m---------------------------------------------------------------------------\u001b[0m",
      "\u001b[0;31mTypeError\u001b[0m                                 Traceback (most recent call last)",
      "\u001b[0;32m<ipython-input-30-1570bf63b694>\u001b[0m in \u001b[0;36m<module>\u001b[0;34m\u001b[0m\n\u001b[1;32m      1\u001b[0m \u001b[0mcache\u001b[0m \u001b[0;34m=\u001b[0m \u001b[0;34m[\u001b[0m\u001b[0;34m]\u001b[0m\u001b[0;34m\u001b[0m\u001b[0;34m\u001b[0m\u001b[0m\n\u001b[1;32m      2\u001b[0m \u001b[0;32mfor\u001b[0m \u001b[0mi\u001b[0m \u001b[0;32min\u001b[0m \u001b[0mrange\u001b[0m\u001b[0;34m(\u001b[0m\u001b[0mlen\u001b[0m\u001b[0;34m(\u001b[0m\u001b[0mdata_cache\u001b[0m\u001b[0;34m)\u001b[0m\u001b[0;34m)\u001b[0m\u001b[0;34m:\u001b[0m\u001b[0;34m\u001b[0m\u001b[0;34m\u001b[0m\u001b[0m\n\u001b[0;32m----> 3\u001b[0;31m     \u001b[0mcache\u001b[0m\u001b[0;34m.\u001b[0m\u001b[0mextend\u001b[0m\u001b[0;34m(\u001b[0m\u001b[0minterval_tensor\u001b[0m\u001b[0;34m(\u001b[0m\u001b[0mdata_cache\u001b[0m\u001b[0;34m[\u001b[0m\u001b[0mi\u001b[0m\u001b[0;34m]\u001b[0m\u001b[0;34m)\u001b[0m\u001b[0;34m)\u001b[0m\u001b[0;34m\u001b[0m\u001b[0;34m\u001b[0m\u001b[0m\n\u001b[0m",
      "\u001b[0;31mTypeError\u001b[0m: 'float' object is not iterable"
     ]
    }
   ],
   "source": [
    "cache = []\n",
    "for i in range(len(data_cache)):\n",
    "    cache.extend(interval_tensor(data_cache[i]))\n"
   ]
  },
  {
   "cell_type": "code",
   "execution_count": null,
   "metadata": {},
   "outputs": [],
   "source": [
    "cache = []\n",
    "for seq in range(len(data_cache)):\n",
    "    seq = seq.tolist()\n",
    "    seq_ = np.array(seq[1:])\n",
    "    seq = np.array(seq[:-1])\n",
    "    intervals = np.sqrt(np.power(seq-seq_,2).sum(axis=1)).mean().item()\n",
    "\n",
    "\n",
    "    cache.append()"
   ]
  },
  {
   "cell_type": "code",
   "execution_count": 21,
   "metadata": {},
   "outputs": [
    {
     "data": {
      "text/plain": [
       "(array([6.5514e+04, 1.8150e+03, 7.0000e+00, 1.0000e+02, 1.4900e+02,\n",
       "        7.0000e+00, 0.0000e+00, 1.0000e+00, 5.0000e+00, 2.0000e+00]),\n",
       " array([ 0.       ,  1.1000063,  2.2000126,  3.3000189,  4.4000252,\n",
       "         5.5000315,  6.6000378,  7.7000441,  8.8000504,  9.9000567,\n",
       "        11.000063 ]),\n",
       " <a list of 10 Patch objects>)"
      ]
     },
     "execution_count": 21,
     "metadata": {},
     "output_type": "execute_result"
    },
    {
     "data": {
      "image/png": "[encoded data removed]",
      "text/plain": [
       "<Figure size 432x288 with 1 Axes>"
      ]
     },
     "metadata": {
      "needs_background": "light"
     },
     "output_type": "display_data"
    }
   ],
   "source": [
    "plt.hist(cache)"
   ]
  },
  {
   "cell_type": "code",
   "execution_count": 22,
   "metadata": {},
   "outputs": [
    {
     "data": {
      "text/plain": [
       "67600"
      ]
     },
     "execution_count": 22,
     "metadata": {},
     "output_type": "execute_result"
    }
   ],
   "source": [
    "len(cache)"
   ]
  },
  {
   "cell_type": "code",
   "execution_count": 38,
   "metadata": {},
   "outputs": [
    {
     "data": {
      "text/plain": [
       "28542"
      ]
     },
     "execution_count": 38,
     "metadata": {},
     "output_type": "execute_result"
    },
    {
     "data": {
      "image/png": "[encoded data removed]",
      "text/plain": [
       "<Figure size 432x288 with 1 Axes>"
      ]
     },
     "metadata": {
      "needs_background": "light"
     },
     "output_type": "display_data"
    }
   ],
   "source": [
    "cache_ = []\n",
    "for i in range(len(cache)):\n",
    "    if cache[i] < 0.02:\n",
    "        cache_.append(cache[i])\n",
    "plt.hist(cache_)\n",
    "len(cache_)"
   ]
  },
  {
   "cell_type": "code",
   "execution_count": 24,
   "metadata": {},
   "outputs": [
    {
     "data": {
      "text/plain": [
       "280230"
      ]
     },
     "execution_count": 24,
     "metadata": {},
     "output_type": "execute_result"
    }
   ],
   "source": [
    "len(cache)"
   ]
  },
  {
   "cell_type": "code",
   "execution_count": 25,
   "metadata": {},
   "outputs": [
    {
     "data": {
      "text/plain": [
       "[0.030045291207738665,\n",
       " 0.057547873360788586,\n",
       " 0.0424274073110391,\n",
       " 0.028463788256612922,\n",
       " 0.015981868316956988,\n",
       " 0.007442699851365554,\n",
       " 0.007299106352051039,\n",
       " 0.006161958485481472,\n",
       " 0.0031523551468084074,\n",
       " 0.014807754750534507]"
      ]
     },
     "execution_count": 25,
     "metadata": {},
     "output_type": "execute_result"
    }
   ],
   "source": [
    "cache[:10]"
   ]
  },
  {
   "cell_type": "markdown",
   "metadata": {},
   "source": [
    "## some test"
   ]
  },
  {
   "cell_type": "code",
   "execution_count": 12,
   "metadata": {},
   "outputs": [],
   "source": [
    "import numpy as np\n",
    "max_len = 6\n",
    "weights = np.array([_*0.5 for _ in range(max_len)])\n",
    "weights = np.exp(-weights)\n",
    "weights_inv = weights[::-1]\n",
    "weights = np.vstack([weights,weights_inv])\n",
    "weights /= weights.sum(axis=0)\n",
    "weights_inv = weights[1,:]\n",
    "weights = weights[0,:]"
   ]
  },
  {
   "cell_type": "code",
   "execution_count": 13,
   "metadata": {},
   "outputs": [
    {
     "data": {
      "text/plain": [
       "array([0.92414182, 0.81757448, 0.62245933, 0.37754067, 0.18242552,\n",
       "       0.07585818])"
      ]
     },
     "execution_count": 13,
     "metadata": {},
     "output_type": "execute_result"
    }
   ],
   "source": [
    "weights"
   ]
  },
  {
   "cell_type": "code",
   "execution_count": 14,
   "metadata": {},
   "outputs": [
    {
     "data": {
      "text/plain": [
       "array([0.07585818, 0.18242552, 0.37754067, 0.62245933, 0.81757448,\n",
       "       0.92414182])"
      ]
     },
     "execution_count": 14,
     "metadata": {},
     "output_type": "execute_result"
    }
   ],
   "source": [
    "weights_inv"
   ]
  },
  {
   "cell_type": "markdown",
   "metadata": {},
   "source": [
    "## feature map"
   ]
  },
  {
   "cell_type": "code",
   "execution_count": 1,
   "metadata": {},
   "outputs": [],
   "source": [
    "import torch\n",
    "import torch.utils.data as Data\n",
    "import torchvision.transforms as transfroms\n",
    "from model import *\n",
    "from dataset import *\n",
    "import matplotlib.pyplot as plt"
   ]
  },
  {
   "cell_type": "code",
   "execution_count": 4,
   "metadata": {},
   "outputs": [
    {
     "name": "stdout",
     "output_type": "stream",
     "text": [
      "==================================================\n",
      "Data Preprocess Done!\n",
      "Dataset size:0, train:846, val:10960\n",
      "==================================================\n"
     ]
    },
    {
     "ename": "NameError",
     "evalue": "name 'encoder' is not defined",
     "output_type": "error",
     "traceback": [
      "\u001b[0;31m---------------------------------------------------------------------------\u001b[0m",
      "\u001b[0;31mNameError\u001b[0m                                 Traceback (most recent call last)",
      "\u001b[0;32m<ipython-input-4-a85e338f29cd>\u001b[0m in \u001b[0;36m<module>\u001b[0;34m\u001b[0m\n\u001b[1;32m     23\u001b[0m         \u001b[0mlength\u001b[0m \u001b[0;34m=\u001b[0m \u001b[0mtorch\u001b[0m\u001b[0;34m.\u001b[0m\u001b[0mfull\u001b[0m\u001b[0;34m(\u001b[0m\u001b[0;34m(\u001b[0m\u001b[0;36m1\u001b[0m\u001b[0;34m,\u001b[0m\u001b[0;36m1\u001b[0m\u001b[0;34m)\u001b[0m\u001b[0;34m,\u001b[0m\u001b[0;36m12\u001b[0m\u001b[0;34m,\u001b[0m\u001b[0mdtype\u001b[0m\u001b[0;34m=\u001b[0m\u001b[0mtorch\u001b[0m\u001b[0;34m.\u001b[0m\u001b[0mlong\u001b[0m\u001b[0;34m)\u001b[0m\u001b[0;34m\u001b[0m\u001b[0;34m\u001b[0m\u001b[0m\n\u001b[1;32m     24\u001b[0m \u001b[0;34m\u001b[0m\u001b[0m\n\u001b[0;32m---> 25\u001b[0;31m         \u001b[0mencoder_out\u001b[0m \u001b[0;34m=\u001b[0m \u001b[0mencoder\u001b[0m\u001b[0;34m(\u001b[0m\u001b[0mimgs\u001b[0m\u001b[0;34m)\u001b[0m\u001b[0;34m\u001b[0m\u001b[0;34m\u001b[0m\u001b[0m\n\u001b[0m\u001b[1;32m     26\u001b[0m         \u001b[0;32mbreak\u001b[0m\u001b[0;34m\u001b[0m\u001b[0;34m\u001b[0m\u001b[0m\n",
      "\u001b[0;31mNameError\u001b[0m: name 'encoder' is not defined"
     ]
    }
   ],
   "source": [
    "checkpoint = './checkpoint/checkpoint_best.pth'\n",
    "data_path = '/data/lzt/project/waysguider_3/dataset/'\n",
    "output_path = './pred_vis/'\n",
    "\n",
    "# checkpoint = torch.load(checkpoint)\n",
    "# decoder = checkpoint['decoder']\n",
    "# encoder = checkpoint['encoder']\n",
    "\n",
    "# decoder.eval()\n",
    "# encoder.eval()\n",
    "\n",
    "dataset = GuiderDataset(data_path,0.2,max_len=12)\n",
    "pred_loader = Data.DataLoader(dataset.test_set(), batch_size=1, shuffle=False) # pred 1 seq each time\n",
    "\n",
    "with torch.no_grad():\n",
    "    for i, data in enumerate(pred_loader):\n",
    "        # Move to device, if available\n",
    "        if i != 321:\n",
    "            continue\n",
    "        imgs = data['image'].to(device)  # (b,c,w,h)\n",
    "        enter = data['enter'].to(device)  # (b,2)\n",
    "        esc = data['esc'].to(device) # (b,2)\n",
    "        length = torch.full((1,1),12,dtype=torch.long)\n",
    "        \n",
    "        encoder_out = encoder(imgs)\n",
    "        break"
   ]
  },
  {
   "cell_type": "code",
   "execution_count": 49,
   "metadata": {},
   "outputs": [
    {
     "name": "stdout",
     "output_type": "stream",
     "text": [
      "0.42576763\n",
      "-1.3381116\n"
     ]
    }
   ],
   "source": [
    "print(encoder_out.cpu().numpy().max())\n",
    "print(encoder_out.cpu().numpy().min())"
   ]
  },
  {
   "cell_type": "code",
   "execution_count": 50,
   "metadata": {},
   "outputs": [
    {
     "name": "stdout",
     "output_type": "stream",
     "text": [
      "torch.Size([1, 64, 64, 1])\n"
     ]
    },
    {
     "data": {
      "image/png": "[encoded data removed]",
      "text/plain": [
       "<Figure size 432x288 with 2 Axes>"
      ]
     },
     "metadata": {
      "needs_background": "light"
     },
     "output_type": "display_data"
    }
   ],
   "source": [
    "print(encoder_out.shape)\n",
    "x = encoder_out.cpu().numpy().squeeze()\n",
    "plt.imshow(x, cmap=plt.cm.hot, vmin=-1, vmax=1)\n",
    "plt.colorbar()\n",
    "plt.show()"
   ]
  },
  {
   "cell_type": "code",
   "execution_count": 43,
   "metadata": {},
   "outputs": [
    {
     "data": {
      "text/plain": [
       "torch.Size([1, 3, 512, 512])"
      ]
     },
     "execution_count": 43,
     "metadata": {},
     "output_type": "execute_result"
    }
   ],
   "source": [
    "imgs = imgs.cpu()\n",
    "imgs.shape"
   ]
  },
  {
   "cell_type": "code",
   "execution_count": 44,
   "metadata": {},
   "outputs": [
    {
     "data": {
      "text/plain": [
       "<matplotlib.image.AxesImage at 0x7f6659761d90>"
      ]
     },
     "execution_count": 44,
     "metadata": {},
     "output_type": "execute_result"
    },
    {
     "data": {
      "image/png": "[encoded data removed]",
      "text/plain": [
       "<Figure size 432x288 with 1 Axes>"
      ]
     },
     "metadata": {
      "needs_background": "light"
     },
     "output_type": "display_data"
    }
   ],
   "source": [
    "trans = transforms.ToPILImage()\n",
    "im = trans(imgs.squeeze())\n",
    "plt.imshow(im)"
   ]
  },
  {
   "cell_type": "code",
   "execution_count": 32,
   "metadata": {},
   "outputs": [
    {
     "ename": "AttributeError",
     "evalue": "'Image' object has no attribute 'data'",
     "output_type": "error",
     "traceback": [
      "\u001b[0;31m---------------------------------------------------------------------------\u001b[0m",
      "\u001b[0;31mAttributeError\u001b[0m                            Traceback (most recent call last)",
      "\u001b[0;32m<ipython-input-32-4d784d65e221>\u001b[0m in \u001b[0;36m<module>\u001b[0;34m\u001b[0m\n\u001b[0;32m----> 1\u001b[0;31m \u001b[0mim\u001b[0m\u001b[0;34m.\u001b[0m\u001b[0mdata\u001b[0m\u001b[0;34m\u001b[0m\u001b[0;34m\u001b[0m\u001b[0m\n\u001b[0m",
      "\u001b[0;31mAttributeError\u001b[0m: 'Image' object has no attribute 'data'"
     ]
    }
   ],
   "source": [
    "im.data"
   ]
  },
  {
   "cell_type": "code",
   "execution_count": 59,
   "metadata": {},
   "outputs": [
    {
     "data": {
      "image/png": "[encoded data removed]",
      "text/plain": [
       "<Figure size 432x288 with 2 Axes>"
      ]
     },
     "metadata": {
      "needs_background": "light"
     },
     "output_type": "display_data"
    }
   ],
   "source": [
    "import torch\n",
    "import numpy as np \n",
    "from scipy import signal \n",
    "\n",
    "def gkern(kernlen=21, std=3): \n",
    "    \"\"\"Returns a 2D Gaussian kernel array.\"\"\" \n",
    "    gkern1d = signal.gaussian(kernlen, std=std).reshape(kernlen, 1) \n",
    "    gkern2d = np.outer(gkern1d, gkern1d) \n",
    "    return gkern2d\n",
    "\n",
    "x = gkern(7,5)\n",
    "\n",
    "plt.imshow(x, cmap=plt.cm.hot, vmin=-1, vmax=1)\n",
    "plt.colorbar()\n",
    "plt.show()"
   ]
  },
  {
   "cell_type": "code",
   "execution_count": 58,
   "metadata": {},
   "outputs": [
    {
     "data": {
      "text/plain": [
       "tensor([[1.2341e-04, 1.5034e-03, 6.7379e-03, 1.1109e-02, 6.7379e-03, 1.5034e-03,\n",
       "         1.2341e-04],\n",
       "        [1.5034e-03, 1.8316e-02, 8.2085e-02, 1.3534e-01, 8.2085e-02, 1.8316e-02,\n",
       "         1.5034e-03],\n",
       "        [6.7379e-03, 8.2085e-02, 3.6788e-01, 6.0653e-01, 3.6788e-01, 8.2085e-02,\n",
       "         6.7379e-03],\n",
       "        [1.1109e-02, 1.3534e-01, 6.0653e-01, 1.0000e+00, 6.0653e-01, 1.3534e-01,\n",
       "         1.1109e-02],\n",
       "        [6.7379e-03, 8.2085e-02, 3.6788e-01, 6.0653e-01, 3.6788e-01, 8.2085e-02,\n",
       "         6.7379e-03],\n",
       "        [1.5034e-03, 1.8316e-02, 8.2085e-02, 1.3534e-01, 8.2085e-02, 1.8316e-02,\n",
       "         1.5034e-03],\n",
       "        [1.2341e-04, 1.5034e-03, 6.7379e-03, 1.1109e-02, 6.7379e-03, 1.5034e-03,\n",
       "         1.2341e-04]], dtype=torch.float64)"
      ]
     },
     "execution_count": 58,
     "metadata": {},
     "output_type": "execute_result"
    }
   ],
   "source": [
    "ker = torch.tensor(x)\n",
    "ker"
   ]
  },
  {
   "cell_type": "code",
   "execution_count": 75,
   "metadata": {},
   "outputs": [
    {
     "data": {
      "text/plain": [
       "tensor([[[[ 3.7201e-44, 2.6692e-109,  3.7201e-44,  1.9287e-22,  3.7201e-44,\n",
       "           2.6692e-109,  3.7201e-44],\n",
       "          [2.6692e-109, 1.9152e-174, 2.6692e-109,  1.3839e-87, 2.6692e-109,\n",
       "           1.9152e-174, 2.6692e-109],\n",
       "          [ 3.7201e-44, 2.6692e-109,  3.7201e-44,  1.9287e-22,  3.7201e-44,\n",
       "           2.6692e-109,  3.7201e-44],\n",
       "          [ 1.9287e-22,  1.3839e-87,  1.9287e-22,  1.0000e+00,  1.9287e-22,\n",
       "            1.3839e-87,  1.9287e-22],\n",
       "          [ 3.7201e-44, 2.6692e-109,  3.7201e-44,  1.9287e-22,  3.7201e-44,\n",
       "           2.6692e-109,  3.7201e-44],\n",
       "          [2.6692e-109, 1.9152e-174, 2.6692e-109,  1.3839e-87, 2.6692e-109,\n",
       "           1.9152e-174, 2.6692e-109],\n",
       "          [ 3.7201e-44, 2.6692e-109,  3.7201e-44,  1.9287e-22,  3.7201e-44,\n",
       "           2.6692e-109,  3.7201e-44]]]], dtype=torch.float64)"
      ]
     },
     "execution_count": 75,
     "metadata": {},
     "output_type": "execute_result"
    }
   ],
   "source": [
    "torch.nn.functional.pad(ker.unsqueeze(0).unsqueeze(0),(1,1,1,1),'reflect')"
   ]
  },
  {
   "cell_type": "code",
   "execution_count": 65,
   "metadata": {},
   "outputs": [
    {
     "data": {
      "text/plain": [
       "torch.Size([5, 5])"
      ]
     },
     "execution_count": 65,
     "metadata": {},
     "output_type": "execute_result"
    }
   ],
   "source": [
    "ker..shape"
   ]
  },
  {
   "cell_type": "code",
   "execution_count": 89,
   "metadata": {},
   "outputs": [],
   "source": [
    "x = torch.arange(0,25).reshape(5,5).to(torch.float)"
   ]
  },
  {
   "cell_type": "code",
   "execution_count": 93,
   "metadata": {},
   "outputs": [
    {
     "data": {
      "text/plain": [
       "tensor([[[[ 0.,  1.,  2.,  3.,  4.],\n",
       "          [ 5.,  6.,  7.,  8.,  9.],\n",
       "          [10., 11., 12., 13., 14.],\n",
       "          [15., 16., 17., 18., 19.],\n",
       "          [20., 21., 22., 23., 24.]]]])"
      ]
     },
     "execution_count": 93,
     "metadata": {},
     "output_type": "execute_result"
    }
   ],
   "source": [
    "x = x.reshape(1,1,5,5)\n",
    "x"
   ]
  },
  {
   "cell_type": "code",
   "execution_count": 97,
   "metadata": {},
   "outputs": [
    {
     "data": {
      "text/plain": [
       "tensor([[[[ 0.0000, 13.2000]]]])"
      ]
     },
     "execution_count": 97,
     "metadata": {},
     "output_type": "execute_result"
    }
   ],
   "source": [
    "import torch.nn.functional as F\n",
    "\n",
    "index = torch.tensor([[-1, -1], [0.1, 0.1]], dtype=torch.float).reshape(1,1,-1,2)\n",
    "F.grid_sample(x,index)"
   ]
  },
  {
   "cell_type": "code",
   "execution_count": 98,
   "metadata": {},
   "outputs": [
    {
     "data": {
      "text/plain": [
       "torch.Size([1, 1, 5, 5])"
      ]
     },
     "execution_count": 98,
     "metadata": {},
     "output_type": "execute_result"
    }
   ],
   "source": [
    "x.shape"
   ]
  },
  {
   "cell_type": "code",
   "execution_count": 99,
   "metadata": {},
   "outputs": [
    {
     "data": {
      "text/plain": [
       "tensor([[[[ 0.,  1.,  2.,  3.,  4.],\n",
       "          [ 5.,  6.,  7.,  8.,  9.],\n",
       "          [10., 11., 12., 13., 14.],\n",
       "          [15., 16., 17., 18., 19.],\n",
       "          [20., 21., 22., 23., 24.]]]])"
      ]
     },
     "execution_count": 99,
     "metadata": {},
     "output_type": "execute_result"
    }
   ],
   "source": [
    "x.reshape(1,1,5,5)"
   ]
  },
  {
   "cell_type": "code",
   "execution_count": null,
   "metadata": {},
   "outputs": [],
   "source": []
  }
 ],
 "metadata": {
  "kernelspec": {
   "display_name": "torch",
   "language": "python",
   "name": "torch"
  },
  "language_info": {
   "codemirror_mode": {
    "name": "ipython",
    "version": 3
   },
   "file_extension": ".py",
   "mimetype": "text/x-python",
   "name": "python",
   "nbconvert_exporter": "python",
   "pygments_lexer": "ipython3",
   "version": "3.7.4"
  }
 },
 "nbformat": 4,
 "nbformat_minor": 4
}
