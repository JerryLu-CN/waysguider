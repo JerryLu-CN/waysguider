{
 "cells": [
  {
   "cell_type": "code",
   "execution_count": 1,
   "metadata": {},
   "outputs": [],
   "source": [
    "from dataset import *\n",
    "import numpy as np\n",
    "import pandas as pd\n",
    "import matplotlib.pyplot as plt\n",
    "torch.manual_seed(0)\n",
    "torch.cuda.manual_seed(0)\n",
    "data_path = '/data/lzt/project/waysguider/dataset'\n"
   ]
  },
  {
   "cell_type": "code",
   "execution_count": 2,
   "metadata": {},
   "outputs": [
    {
     "name": "stdout",
     "output_type": "stream",
     "text": [
      "==================================================\n",
      "Data Preprocess Done!\n",
      "Dataset size:6713, train:5370, val:1343\n",
      "==================================================\n"
     ]
    }
   ],
   "source": [
    "dataset = GuiderDataset(data_path,0.2,max_len=12)\n",
    "data = dataset.data\n",
    "\n"
   ]
  },
  {
   "cell_type": "markdown",
   "metadata": {},
   "source": [
    "## raw"
   ]
  },
  {
   "cell_type": "code",
   "execution_count": 3,
   "metadata": {},
   "outputs": [
    {
     "data": {
      "text/plain": [
       "6760"
      ]
     },
     "execution_count": 3,
     "metadata": {},
     "output_type": "execute_result"
    }
   ],
   "source": [
    "len(data)"
   ]
  },
  {
   "cell_type": "code",
   "execution_count": 3,
   "metadata": {},
   "outputs": [],
   "source": [
    "def interval(seq):\n",
    "    intervals = []\n",
    "    seq = seq[:-1]\n",
    "    seq_ = seq[1:]\n",
    "    seq = seq[:-1]\n",
    "    for i in range(len(seq)):\n",
    "        inter = np.sqrt((seq[i][0] - seq_[i][0]) ** 2 + (seq[i][1] - seq_[i][1]) ** 2).item()\n",
    "        intervals.append(inter)\n",
    "    return intervals"
   ]
  },
  {
   "cell_type": "code",
   "execution_count": 4,
   "metadata": {},
   "outputs": [],
   "source": [
    "length = []\n",
    "intervals_avg = []\n",
    "for seq in data:\n",
    "    length.append(len(seq))\n",
    "    intervals_avg.append(np.array(interval(seq)).mean().item())\n",
    "summary = pd.DataFrame()\n",
    "summary['id'] = list(range(len(data)))\n",
    "summary['length'] = length\n",
    "summary['avg_inter'] = intervals_avg"
   ]
  },
  {
   "cell_type": "code",
   "execution_count": 6,
   "metadata": {},
   "outputs": [],
   "source": [
    "summary.to_csv('summary.csv')"
   ]
  },
  {
   "cell_type": "code",
   "execution_count": 7,
   "metadata": {},
   "outputs": [
    {
     "data": {
      "text/plain": [
       "21"
      ]
     },
     "execution_count": 7,
     "metadata": {},
     "output_type": "execute_result"
    }
   ],
   "source": [
    "max(summary['length'])"
   ]
  },
  {
   "cell_type": "code",
   "execution_count": 11,
   "metadata": {},
   "outputs": [
    {
     "name": "stdout",
     "output_type": "stream",
     "text": [
      "5435\n"
     ]
    },
    {
     "data": {
      "image/png": "[encoded data removed]",
      "text/plain": [
       "<Figure size 432x288 with 1 Axes>"
      ]
     },
     "metadata": {
      "needs_background": "light"
     },
     "output_type": "display_data"
    }
   ],
   "source": [
    "plt.hist(summary['length'].loc[summary['length']<20].loc[summary['length']>6])\n",
    "print(summary['length'].loc[summary['length']<20].loc[summary['length']>6].shape[0])"
   ]
  },
  {
   "cell_type": "code",
   "execution_count": 5,
   "metadata": {},
   "outputs": [
    {
     "name": "stdout",
     "output_type": "stream",
     "text": [
      "6670\n"
     ]
    },
    {
     "data": {
      "image/png": "[encoded data removed]",
      "text/plain": [
       "<Figure size 432x288 with 1 Axes>"
      ]
     },
     "metadata": {
      "needs_background": "light"
     },
     "output_type": "display_data"
    }
   ],
   "source": [
    "plt.hist(summary['avg_inter'].loc[summary['avg_inter']<1])\n",
    "print(summary['avg_inter'].loc[summary['avg_inter']<1].shape[0])"
   ]
  },
  {
   "cell_type": "code",
   "execution_count": 7,
   "metadata": {},
   "outputs": [
    {
     "name": "stdout",
     "output_type": "stream",
     "text": [
      "6760\n"
     ]
    },
    {
     "data": {
      "image/png": "[encoded data removed]",
      "text/plain": [
       "<Figure size 432x288 with 1 Axes>"
      ]
     },
     "metadata": {
      "needs_background": "light"
     },
     "output_type": "display_data"
    }
   ],
   "source": [
    "plt.hist(summary['avg_inter'])\n",
    "print(summary['avg_inter'].shape[0])"
   ]
  },
  {
   "cell_type": "code",
   "execution_count": 4,
   "metadata": {},
   "outputs": [],
   "source": [
    "cache = []\n",
    "for i in range(len(data)):\n",
    "    cache.extend(interval(data[i]))"
   ]
  },
  {
   "cell_type": "code",
   "execution_count": 5,
   "metadata": {},
   "outputs": [
    {
     "data": {
      "text/plain": [
       "(array([1.30672e+05, 1.80000e+01, 0.00000e+00, 0.00000e+00, 0.00000e+00,\n",
       "        1.00000e+00, 0.00000e+00, 1.00000e+00, 2.00000e+00, 1.00000e+00]),\n",
       " array([6.23626743e-08, 5.28626780e-01, 1.05725350e+00, 1.58588021e+00,\n",
       "        2.11450693e+00, 2.64313365e+00, 3.17176037e+00, 3.70038708e+00,\n",
       "        4.22901380e+00, 4.75764052e+00, 5.28626724e+00]),\n",
       " <a list of 10 Patch objects>)"
      ]
     },
     "execution_count": 5,
     "metadata": {},
     "output_type": "execute_result"
    },
    {
     "data": {
      "image/png": "[encoded data removed]",
      "text/plain": [
       "<Figure size 432x288 with 1 Axes>"
      ]
     },
     "metadata": {
      "needs_background": "light"
     },
     "output_type": "display_data"
    }
   ],
   "source": [
    "import matplotlib.pyplot as plt\n",
    "plt.hist(cache)"
   ]
  },
  {
   "cell_type": "code",
   "execution_count": 6,
   "metadata": {},
   "outputs": [
    {
     "data": {
      "text/plain": [
       "[0.05754787463633821,\n",
       " 0.04242741915497592,\n",
       " 0.028463778829250976,\n",
       " 0.015981864959769436,\n",
       " 0.007442697710512366,\n",
       " 0.007299108112575403,\n",
       " 0.006161953280213028,\n",
       " 0.0031523514937913753,\n",
       " 0.01480775541225814]"
      ]
     },
     "execution_count": 6,
     "metadata": {},
     "output_type": "execute_result"
    }
   ],
   "source": [
    "cache[1:10]"
   ]
  },
  {
   "cell_type": "code",
   "execution_count": 9,
   "metadata": {},
   "outputs": [
    {
     "name": "stdout",
     "output_type": "stream",
     "text": [
      "5.286267235676357\n",
      "6.23626743237986e-08\n"
     ]
    }
   ],
   "source": [
    "print(max(cache))\n",
    "print(min(cache))"
   ]
  },
  {
   "cell_type": "code",
   "execution_count": 8,
   "metadata": {},
   "outputs": [
    {
     "data": {
      "text/plain": [
       "[[0.4162920025199994, 0.0],\n",
       " [0.3869267398347111, 0.006356128040940765],\n",
       " [0.3302952330230998, 0.016585023944513364],\n",
       " [0.28820587800652736, 0.021930310694627402],\n",
       " [0.25975802097893236, 0.022882222338652027],\n",
       " [0.24405100813213684, 0.01993099292992983],\n",
       " [0.23979825081133627, 0.013822981438417791],\n",
       " [0.24286086062119278, 0.0071974701078384865],\n",
       " [0.24782153997728748, 0.0035421549978180223],\n",
       " [0.24925696106822348, 0.0063487340955996644],\n",
       " [0.24174379607837065, 0.019108905418293964],\n",
       " [0.22030825665418663, 0.044413036573577855],\n",
       " [0.18371616963476955, 0.07735353524010546],\n",
       " [0.13258790022847408, 0.10930444410577989],\n",
       " [0.06755714425762496, 0.13161307784322113],\n",
       " [-4.2332006896639744e-13, 0.13507609029931378],\n",
       " '8_7']"
      ]
     },
     "execution_count": 8,
     "metadata": {},
     "output_type": "execute_result"
    }
   ],
   "source": [
    "data[0]"
   ]
  },
  {
   "cell_type": "markdown",
   "metadata": {},
   "source": [
    "## torch"
   ]
  },
  {
   "cell_type": "code",
   "execution_count": 18,
   "metadata": {},
   "outputs": [],
   "source": [
    "import torch.utils.data as Data\n",
    "dataloader = Data.DataLoader(dataset,batch_size = 32)\n",
    "data_cache = []\n",
    "for i,data in enumerate(dataloader):\n",
    "    seq = data['seq']\n",
    "    for i in range(seq.shape[0]):\n",
    "        data_cache.append(seq[i])"
   ]
  },
  {
   "cell_type": "code",
   "execution_count": 36,
   "metadata": {},
   "outputs": [],
   "source": [
    "def interval_tensor(seq):\n",
    "    #seq = seq.tolist()\n",
    "    seq_ = np.array(seq[1:])\n",
    "    seq = np.array(seq[:-1])\n",
    "    intervals = np.sqrt(np.power(seq-seq_,2).sum(axis=1)).mean()\n",
    "\n",
    "    return intervals"
   ]
  },
  {
   "cell_type": "code",
   "execution_count": 37,
   "metadata": {},
   "outputs": [
    {
     "data": {
      "text/plain": [
       "3.5"
      ]
     },
     "execution_count": 37,
     "metadata": {},
     "output_type": "execute_result"
    }
   ],
   "source": [
    "x = [[1,1],[1,4],[5,4]]\n",
    "interval_tensor(x)"
   ]
  },
  {
   "cell_type": "code",
   "execution_count": 30,
   "metadata": {},
   "outputs": [
    {
     "ename": "TypeError",
     "evalue": "'float' object is not iterable",
     "output_type": "error",
     "traceback": [
      "\u001b[0;31m---------------------------------------------------------------------------\u001b[0m",
      "\u001b[0;31mTypeError\u001b[0m                                 Traceback (most recent call last)",
      "\u001b[0;32m<ipython-input-30-1570bf63b694>\u001b[0m in \u001b[0;36m<module>\u001b[0;34m\u001b[0m\n\u001b[1;32m      1\u001b[0m \u001b[0mcache\u001b[0m \u001b[0;34m=\u001b[0m \u001b[0;34m[\u001b[0m\u001b[0;34m]\u001b[0m\u001b[0;34m\u001b[0m\u001b[0;34m\u001b[0m\u001b[0m\n\u001b[1;32m      2\u001b[0m \u001b[0;32mfor\u001b[0m \u001b[0mi\u001b[0m \u001b[0;32min\u001b[0m \u001b[0mrange\u001b[0m\u001b[0;34m(\u001b[0m\u001b[0mlen\u001b[0m\u001b[0;34m(\u001b[0m\u001b[0mdata_cache\u001b[0m\u001b[0;34m)\u001b[0m\u001b[0;34m)\u001b[0m\u001b[0;34m:\u001b[0m\u001b[0;34m\u001b[0m\u001b[0;34m\u001b[0m\u001b[0m\n\u001b[0;32m----> 3\u001b[0;31m     \u001b[0mcache\u001b[0m\u001b[0;34m.\u001b[0m\u001b[0mextend\u001b[0m\u001b[0;34m(\u001b[0m\u001b[0minterval_tensor\u001b[0m\u001b[0;34m(\u001b[0m\u001b[0mdata_cache\u001b[0m\u001b[0;34m[\u001b[0m\u001b[0mi\u001b[0m\u001b[0;34m]\u001b[0m\u001b[0;34m)\u001b[0m\u001b[0;34m)\u001b[0m\u001b[0;34m\u001b[0m\u001b[0;34m\u001b[0m\u001b[0m\n\u001b[0m",
      "\u001b[0;31mTypeError\u001b[0m: 'float' object is not iterable"
     ]
    }
   ],
   "source": [
    "cache = []\n",
    "for i in range(len(data_cache)):\n",
    "    cache.extend(interval_tensor(data_cache[i]))\n"
   ]
  },
  {
   "cell_type": "code",
   "execution_count": null,
   "metadata": {},
   "outputs": [],
   "source": [
    "cache = []\n",
    "for seq in range(len(data_cache)):\n",
    "    seq = seq.tolist()\n",
    "    seq_ = np.array(seq[1:])\n",
    "    seq = np.array(seq[:-1])\n",
    "    intervals = np.sqrt(np.power(seq-seq_,2).sum(axis=1)).mean().item()\n",
    "\n",
    "\n",
    "    cache.append()"
   ]
  },
  {
   "cell_type": "code",
   "execution_count": 21,
   "metadata": {},
   "outputs": [
    {
     "data": {
      "text/plain": [
       "(array([6.5514e+04, 1.8150e+03, 7.0000e+00, 1.0000e+02, 1.4900e+02,\n",
       "        7.0000e+00, 0.0000e+00, 1.0000e+00, 5.0000e+00, 2.0000e+00]),\n",
       " array([ 0.       ,  1.1000063,  2.2000126,  3.3000189,  4.4000252,\n",
       "         5.5000315,  6.6000378,  7.7000441,  8.8000504,  9.9000567,\n",
       "        11.000063 ]),\n",
       " <a list of 10 Patch objects>)"
      ]
     },
     "execution_count": 21,
     "metadata": {},
     "output_type": "execute_result"
    },
    {
     "data": {
      "image/png": "[encoded data removed]",
      "text/plain": [
       "<Figure size 432x288 with 1 Axes>"
      ]
     },
     "metadata": {
      "needs_background": "light"
     },
     "output_type": "display_data"
    }
   ],
   "source": [
    "plt.hist(cache)"
   ]
  },
  {
   "cell_type": "code",
   "execution_count": 22,
   "metadata": {},
   "outputs": [
    {
     "data": {
      "text/plain": [
       "67600"
      ]
     },
     "execution_count": 22,
     "metadata": {},
     "output_type": "execute_result"
    }
   ],
   "source": [
    "len(cache)"
   ]
  },
  {
   "cell_type": "code",
   "execution_count": 38,
   "metadata": {},
   "outputs": [
    {
     "data": {
      "text/plain": [
       "28542"
      ]
     },
     "execution_count": 38,
     "metadata": {},
     "output_type": "execute_result"
    },
    {
     "data": {
      "image/png": "[encoded data removed]",
      "text/plain": [
       "<Figure size 432x288 with 1 Axes>"
      ]
     },
     "metadata": {
      "needs_background": "light"
     },
     "output_type": "display_data"
    }
   ],
   "source": [
    "cache_ = []\n",
    "for i in range(len(cache)):\n",
    "    if cache[i] < 0.02:\n",
    "        cache_.append(cache[i])\n",
    "plt.hist(cache_)\n",
    "len(cache_)"
   ]
  },
  {
   "cell_type": "code",
   "execution_count": 24,
   "metadata": {},
   "outputs": [
    {
     "data": {
      "text/plain": [
       "280230"
      ]
     },
     "execution_count": 24,
     "metadata": {},
     "output_type": "execute_result"
    }
   ],
   "source": [
    "len(cache)"
   ]
  },
  {
   "cell_type": "code",
   "execution_count": 25,
   "metadata": {},
   "outputs": [
    {
     "data": {
      "text/plain": [
       "[0.030045291207738665,\n",
       " 0.057547873360788586,\n",
       " 0.0424274073110391,\n",
       " 0.028463788256612922,\n",
       " 0.015981868316956988,\n",
       " 0.007442699851365554,\n",
       " 0.007299106352051039,\n",
       " 0.006161958485481472,\n",
       " 0.0031523551468084074,\n",
       " 0.014807754750534507]"
      ]
     },
     "execution_count": 25,
     "metadata": {},
     "output_type": "execute_result"
    }
   ],
   "source": [
    "cache[:10]"
   ]
  },
  {
   "cell_type": "code",
   "execution_count": null,
   "metadata": {},
   "outputs": [],
   "source": []
  }
 ],
 "metadata": {
  "kernelspec": {
   "display_name": "torch",
   "language": "python",
   "name": "torch"
  },
  "language_info": {
   "codemirror_mode": {
    "name": "ipython",
    "version": 3
   },
   "file_extension": ".py",
   "mimetype": "text/x-python",
   "name": "python",
   "nbconvert_exporter": "python",
   "pygments_lexer": "ipython3",
   "version": "3.7.4"
  }
 },
 "nbformat": 4,
 "nbformat_minor": 4
}
